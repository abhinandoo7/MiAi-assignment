{
 "cells": [
  {
   "cell_type": "code",
   "execution_count": null,
   "id": "1cc035d1",
   "metadata": {},
   "outputs": [],
   "source": []
  },
  {
   "cell_type": "code",
   "execution_count": null,
   "id": "4820d8d3",
   "metadata": {},
   "outputs": [],
   "source": [
    "def addition(a,b):\n",
    "    c=a+b\n",
    "    return c"
   ]
  },
  {
   "cell_type": "code",
   "execution_count": null,
   "id": "de235adc",
   "metadata": {},
   "outputs": [],
   "source": [
    "a=int(input('enter a no:'))\n",
    "b=int(input('enter a no:'))\n",
    "print('sum is ',addition(a,b))"
   ]
  },
  {
   "cell_type": "code",
   "execution_count": null,
   "id": "81e53ebe",
   "metadata": {},
   "outputs": [],
   "source": [
    "def largest(a,b,c):\n",
    "    if a>b  and b>c:\n",
    "        return(a)\n",
    "    elif b>a and b>c:\n",
    "        return(b)\n",
    "    else:\n",
    "        return(c)\n",
    "    "
   ]
  },
  {
   "cell_type": "code",
   "execution_count": null,
   "id": "23d5b329",
   "metadata": {},
   "outputs": [],
   "source": [
    "a=int(input('enter a no:'))\n",
    "b=int(input('enter a no:'))\n",
    "c=int(input('enter a no:'))\n",
    "print('largest=',largest(a,b,c))"
   ]
  },
  {
   "cell_type": "code",
   "execution_count": null,
   "id": "e20f7ffd",
   "metadata": {},
   "outputs": [],
   "source": [
    " #QUESTIONS"
   ]
  },
  {
   "cell_type": "code",
   "execution_count": null,
   "id": "e1474f25",
   "metadata": {},
   "outputs": [],
   "source": [
    "scores=['67','43','69','56','78','65','73']\n",
    "sc_set=set(scores)\n",
    "top=max(sc_set)\n",
    "sc_set.remove(top)\n",
    "print(max(sc_set))"
   ]
  },
  {
   "cell_type": "code",
   "execution_count": null,
   "id": "4df1a8c2",
   "metadata": {},
   "outputs": [],
   "source": [
    "s1={5,6,8,9,4,7}\n",
    "s2={6,3,22,5,8}\n",
    "if s1.intersection(s2):\n",
    "    print(s1&s2)\n",
    "else:\n",
    "        print(s1.union(s2))"
   ]
  },
  {
   "cell_type": "code",
   "execution_count": 1,
   "id": "e30c63a8",
   "metadata": {},
   "outputs": [
    {
     "name": "stdout",
     "output_type": "stream",
     "text": [
      "Enter the name to be updatedJohn\n",
      "{'John': [88, 77, 99], 'Peter': [87, 55, 96], 'Ram': [58, 55, 43], 'Meena': [63, 79, 85]}\n"
     ]
    }
   ],
   "source": [
    "D={'John':[25,32,43],'Peter':[87,55,96],'Ram':[58,55,43],'Meena':[63,79,85]}\n",
    "n=input('Enter the name to be updated')\n",
    "if n in D:\n",
    "    D[n]=[88,77,99]\n",
    "    print(D)\n",
    "else:\n",
    "        print('name not found')"
   ]
  },
  {
   "cell_type": "code",
   "execution_count": 8,
   "id": "92123b81",
   "metadata": {},
   "outputs": [],
   "source": [
    "s=\"Nirmala\""
   ]
  },
  {
   "cell_type": "code",
   "execution_count": 9,
   "id": "6e1c403c",
   "metadata": {},
   "outputs": [
    {
     "data": {
      "text/plain": [
       "'Nraa'"
      ]
     },
     "execution_count": 9,
     "metadata": {},
     "output_type": "execute_result"
    }
   ],
   "source": [
    "s[::2]"
   ]
  },
  {
   "cell_type": "code",
   "execution_count": 10,
   "id": "0140600c",
   "metadata": {},
   "outputs": [
    {
     "name": "stdout",
     "output_type": "stream",
     "text": [
      "elder=  46\n",
      "youngest=  26\n"
     ]
    }
   ],
   "source": [
    "age=[26,36,46]\n",
    "print('elder= ',max(age))\n",
    "print('youngest= ',min(age))"
   ]
  },
  {
   "cell_type": "code",
   "execution_count": null,
   "id": "2d8f64f7",
   "metadata": {},
   "outputs": [],
   "source": []
  }
 ],
 "metadata": {
  "kernelspec": {
   "display_name": "Python 3 (ipykernel)",
   "language": "python",
   "name": "python3"
  },
  "language_info": {
   "codemirror_mode": {
    "name": "ipython",
    "version": 3
   },
   "file_extension": ".py",
   "mimetype": "text/x-python",
   "name": "python",
   "nbconvert_exporter": "python",
   "pygments_lexer": "ipython3",
   "version": "3.11.5"
  }
 },
 "nbformat": 4,
 "nbformat_minor": 5
}
